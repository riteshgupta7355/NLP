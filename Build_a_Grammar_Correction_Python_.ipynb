{
  "nbformat": 4,
  "nbformat_minor": 0,
  "metadata": {
    "colab": {
      "name": "Build a Grammar Correction Python .ipynb",
      "provenance": []
    },
    "kernelspec": {
      "name": "python3",
      "display_name": "Python 3"
    },
    "language_info": {
      "name": "python"
    }
  },
  "cells": [
    {
      "cell_type": "markdown",
      "metadata": {
        "id": "xMLAvN4ICibW"
      },
      "source": [
        "# Importing  Required Libraries"
      ]
    },
    {
      "cell_type": "code",
      "metadata": {
        "id": "vB1VIHKkCGcC"
      },
      "source": [
        "# !pip install torch==1.8.1+cu111 torchvision==0.9.1+cu111 torchaudio===0.8.1 -f https://download.pytorch.org/whl/lts/1.8/torch_lts.html"
      ],
      "execution_count": 32,
      "outputs": []
    },
    {
      "cell_type": "code",
      "metadata": {
        "id": "O6pvQqXDCShv"
      },
      "source": [
        "# !pip install git+https://github.com/PrithivirajDamodaran/Gramformer.git"
      ],
      "execution_count": 33,
      "outputs": []
    },
    {
      "cell_type": "code",
      "metadata": {
        "id": "ESb38g1SCV0P"
      },
      "source": [
        "from gramformer import  Gramformer"
      ],
      "execution_count": 34,
      "outputs": []
    },
    {
      "cell_type": "markdown",
      "metadata": {
        "id": "kSt4O-wBC1Sa"
      },
      "source": [
        "## Instantiate Gramformer"
      ]
    },
    {
      "cell_type": "code",
      "metadata": {
        "colab": {
          "base_uri": "https://localhost:8080/"
        },
        "id": "NqoiG5vOC3AP",
        "outputId": "683c1740-90e4-489d-97cb-29476551bd28"
      },
      "source": [
        "gf = Gramformer(models=3) # 0 = highlighter, 1 = detector, 2 = corrector, 3 = all"
      ],
      "execution_count": 35,
      "outputs": [
        {
          "output_type": "stream",
          "text": [
            "[Gramformer] All models loaded..\n"
          ],
          "name": "stdout"
        }
      ]
    },
    {
      "cell_type": "markdown",
      "metadata": {
        "id": "S9ZMQXMuDPXq"
      },
      "source": [
        "##  Run Correction\n"
      ]
    },
    {
      "cell_type": "code",
      "metadata": {
        "colab": {
          "base_uri": "https://localhost:8080/"
        },
        "id": "FnLlG1PkDRtx",
        "outputId": "01258327-3d4b-492f-fd8a-a4f1b3b1f730"
      },
      "source": [
        "gf.correct('My camera battery a dead')"
      ],
      "execution_count": 36,
      "outputs": [
        {
          "output_type": "execute_result",
          "data": {
            "text/plain": [
              "['My camera battery a dead']"
            ]
          },
          "metadata": {
            "tags": []
          },
          "execution_count": 36
        }
      ]
    },
    {
      "cell_type": "code",
      "metadata": {
        "id": "OvtgglxzCfsf"
      },
      "source": [
        "sentences = [\n",
        "    'I like for walks', \n",
        "    'World is flat', \n",
        "    'Red a color', \n",
        "    'I wish my Computer was run faster.'\n",
        "]"
      ],
      "execution_count": 37,
      "outputs": []
    },
    {
      "cell_type": "code",
      "metadata": {
        "colab": {
          "base_uri": "https://localhost:8080/"
        },
        "id": "k7kRILXXCvqd",
        "outputId": "c97946d3-8dcf-439b-a512-4f71d6f8d9f9"
      },
      "source": [
        "for sentence in sentences:\n",
        "   res= gf.correct(sentence)\n",
        "   print(res[0])\n",
        "\n",
        "\n",
        "\n"
      ],
      "execution_count": 38,
      "outputs": [
        {
          "output_type": "stream",
          "text": [
            "I like walking.\n",
            "The World is Flat\n",
            "Red the color\n",
            "I wish my Computer would run faster.\n"
          ],
          "name": "stdout"
        }
      ]
    },
    {
      "cell_type": "markdown",
      "metadata": {
        "id": "IjsxH6tnK2-p"
      },
      "source": [
        "# Putting it Together with Gradio"
      ]
    },
    {
      "cell_type": "code",
      "metadata": {
        "id": "wmAX-yqvK38W"
      },
      "source": [
        "#!pip install gradio"
      ],
      "execution_count": 39,
      "outputs": []
    },
    {
      "cell_type": "code",
      "metadata": {
        "id": "K0L53CAFCvtO"
      },
      "source": [
        "import gradio as gr"
      ],
      "execution_count": 40,
      "outputs": []
    },
    {
      "cell_type": "code",
      "metadata": {
        "id": "wfobRa6PCvvX"
      },
      "source": [
        "def correct(sentence):\n",
        "  res=gf.correct(sentence)\n",
        "  return res[0]  #Return first value in res array"
      ],
      "execution_count": 41,
      "outputs": []
    },
    {
      "cell_type": "code",
      "metadata": {
        "id": "XHhVubOdCvxY"
      },
      "source": [
        "app_inputs = gr.inputs.Textbox(lines=5, placeholder=\"Enter sentence here...\")"
      ],
      "execution_count": 42,
      "outputs": []
    },
    {
      "cell_type": "code",
      "metadata": {
        "id": "UnN79t9iCv0V"
      },
      "source": [
        "interface = gr.Interface(fn=correct, \n",
        "                        inputs=app_inputs,\n",
        "                         outputs='text', \n",
        "                        title='Sup, I\\'m Gramformer')\n"
      ],
      "execution_count": 43,
      "outputs": []
    },
    {
      "cell_type": "code",
      "metadata": {
        "colab": {
          "base_uri": "https://localhost:8080/",
          "height": 640
        },
        "id": "ajQAXTNbCv2h",
        "outputId": "929c956f-3b59-4f6d-ae2b-b13d624b8751"
      },
      "source": [
        "interface.launch()"
      ],
      "execution_count": 44,
      "outputs": [
        {
          "output_type": "stream",
          "text": [
            "Colab notebook detected. To show errors in colab notebook, set `debug=True` in `launch()`\n",
            "This share link will expire in 24 hours. If you need a permanent link, visit: https://gradio.app/introducing-hosted (NEW!)\n",
            "Running on External URL: https://41345.gradio.app\n",
            "Interface loading below...\n"
          ],
          "name": "stdout"
        },
        {
          "output_type": "display_data",
          "data": {
            "text/html": [
              "\n",
              "        <iframe\n",
              "            width=\"900\"\n",
              "            height=\"500\"\n",
              "            src=\"https://41345.gradio.app\"\n",
              "            frameborder=\"0\"\n",
              "            allowfullscreen\n",
              "        ></iframe>\n",
              "        "
            ],
            "text/plain": [
              "<IPython.lib.display.IFrame at 0x7f23f3ea5810>"
            ]
          },
          "metadata": {
            "tags": []
          }
        },
        {
          "output_type": "execute_result",
          "data": {
            "text/plain": [
              "(<Flask 'gradio.networking'>,\n",
              " 'http://127.0.0.1:7861/',\n",
              " 'https://41345.gradio.app')"
            ]
          },
          "metadata": {
            "tags": []
          },
          "execution_count": 44
        }
      ]
    },
    {
      "cell_type": "code",
      "metadata": {
        "id": "cOb0iHFNCv47"
      },
      "source": [
        ""
      ],
      "execution_count": 44,
      "outputs": []
    }
  ]
}